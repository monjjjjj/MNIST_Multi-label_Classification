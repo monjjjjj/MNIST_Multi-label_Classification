{
  "nbformat": 4,
  "nbformat_minor": 0,
  "metadata": {
    "colab": {
      "provenance": [],
      "authorship_tag": "ABX9TyM3YvwYRTTH0vovQKvaeLRW",
      "include_colab_link": true
    },
    "kernelspec": {
      "name": "python3",
      "display_name": "Python 3"
    },
    "language_info": {
      "name": "python"
    },
    "accelerator": "GPU"
  },
  "cells": [
    {
      "cell_type": "markdown",
      "metadata": {
        "id": "view-in-github",
        "colab_type": "text"
      },
      "source": [
        "<a href=\"https://colab.research.google.com/github/monjjjjj/MNIST_Multi-label_Classification/blob/main/MNIST_Multi_label_Classification.ipynb\" target=\"_parent\"><img src=\"https://colab.research.google.com/assets/colab-badge.svg\" alt=\"Open In Colab\"/></a>"
      ]
    },
    {
      "cell_type": "code",
      "execution_count": null,
      "metadata": {
        "id": "pg9HfKxgL4UG"
      },
      "outputs": [],
      "source": [
        "import numpy as np\n",
        "from keras.models import Sequential, load_model\n",
        "from keras.layers import Dense, Flatten, Conv2D, MaxPool2D\n",
        "from keras.layers import BatchNormalization\n",
        "from keras.utils import np_utils\n",
        "from keras.datasets import mnist\n",
        "import matplotlib.pyplot as plt"
      ]
    },
    {
      "cell_type": "code",
      "source": [
        "(X_train, Y_train), (X_test, Y_test) = mnist.load_data()\n",
        "x_train = X_train.reshape(60000, 1, 28, 28)/255\n",
        "x_test = X_test.reshape(10000, 1, 28, 28)/255\n",
        "\n",
        "y_train = np_utils.to_categorical(Y_train).astype(int).tolist()\n",
        "y_test = np_utils.to_categorical(Y_test).astype(int).tolist()"
      ],
      "metadata": {
        "id": "2GusfcSEMEC-"
      },
      "execution_count": null,
      "outputs": []
    },
    {
      "cell_type": "code",
      "source": [
        "for n in range(len(y_train)):\n",
        "    if y_train[n].index(1) < 5:\n",
        "        y_train[n].append(0)\n",
        "    else:\n",
        "        y_train[n].append(1)\n",
        "\n",
        "for n in range(len(y_test)):\n",
        "    if y_test[n].index(1) < 5:\n",
        "        y_test[n].append(0)\n",
        "    else:\n",
        "        y_test[n].append(1)\n"
      ],
      "metadata": {
        "id": "IAeF7T9IMD5S"
      },
      "execution_count": null,
      "outputs": []
    },
    {
      "cell_type": "code",
      "source": [
        "y_train = np.array(y_train)\n",
        "y_test = np.array(y_test)\n",
        "print(y_test[0:5])"
      ],
      "metadata": {
        "id": "aUagjVu-MDt5"
      },
      "execution_count": null,
      "outputs": []
    },
    {
      "cell_type": "code",
      "source": [
        "# Model Structure\n",
        "model = Sequential()\n",
        "model.add(Conv2D(filters=32, kernel_size=5, input_shape=(1, 28, 28), activation='sigmoid', padding='same'))\n",
        "model.add(MaxPool2D(pool_size=2, data_format='channels_first'))\n",
        "#model.add(BatchNormalization())\n",
        "\n",
        "model.add(Flatten())\n",
        "model.add(Dense(256, activation='relu'))\n",
        "model.add(Dense(11, activation='sigmoid'))\n",
        "print(model.summary())"
      ],
      "metadata": {
        "id": "1rmqOngKMRe2"
      },
      "execution_count": null,
      "outputs": []
    },
    {
      "cell_type": "code",
      "source": [
        "# Train\n",
        "model.compile(loss='binary_crossentropy', optimizer='adam', metrics=['accuracy'])\n",
        "model.fit(x_train, y_train, epochs=15, batch_size=32, verbose=1)\n"
      ],
      "metadata": {
        "id": "6TqQbgEDMaVd"
      },
      "execution_count": null,
      "outputs": []
    },
    {
      "cell_type": "code",
      "source": [
        "# Test\n",
        "loss, accuracy = model.evaluate(x_test, y_test)\n",
        "print('Test:')\n",
        "print('Loss: %s\\nAccuracy: %s' % (loss, accuracy))\n"
      ],
      "metadata": {
        "id": "qhkAMG0mMjO8"
      },
      "execution_count": null,
      "outputs": []
    },
    {
      "cell_type": "code",
      "source": [
        "# Display\n",
        "def image_predict(model, n):\n",
        "    predict = model.predict(x_test)\n",
        "    print('Answer:', Y_test[n])\n",
        "\n",
        "    plt.plot(predict[n])\n",
        "    plt.show()\n",
        "\n",
        "    plt.imshow(X_test[n], cmap='gray')\n",
        "    plt.show()\n",
        "\n",
        "\n",
        "#if __name__ == '__main__':\n",
        "image_predict(model, 4)"
      ],
      "metadata": {
        "id": "YKGvISvwMrNn"
      },
      "execution_count": null,
      "outputs": []
    }
  ]
}